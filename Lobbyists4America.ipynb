{
 "cells": [
  {
   "cell_type": "code",
   "execution_count": 1,
   "metadata": {},
   "outputs": [],
   "source": [
    "import pandas as pd"
   ]
  },
  {
   "cell_type": "code",
   "execution_count": 7,
   "metadata": {},
   "outputs": [],
   "source": [
    "lobby = pd.read_json('users.json', lines=True)"
   ]
  },
  {
   "cell_type": "code",
   "execution_count": 8,
   "metadata": {},
   "outputs": [
    {
     "name": "stdout",
     "output_type": "stream",
     "text": [
      "<class 'pandas.core.frame.DataFrame'>\n",
      "RangeIndex: 548 entries, 0 to 547\n",
      "Data columns (total 42 columns):\n",
      " #   Column                              Non-Null Count  Dtype              \n",
      "---  ------                              --------------  -----              \n",
      " 0   contributors_enabled                548 non-null    bool               \n",
      " 1   created_at                          548 non-null    datetime64[ns, UTC]\n",
      " 2   default_profile                     548 non-null    bool               \n",
      " 3   default_profile_image               548 non-null    bool               \n",
      " 4   description                         548 non-null    object             \n",
      " 5   entities                            545 non-null    object             \n",
      " 6   favourites_count                    548 non-null    int64              \n",
      " 7   follow_request_sent                 548 non-null    bool               \n",
      " 8   followers_count                     548 non-null    int64              \n",
      " 9   following                           548 non-null    bool               \n",
      " 10  friends_count                       548 non-null    int64              \n",
      " 11  geo_enabled                         548 non-null    bool               \n",
      " 12  has_extended_profile                548 non-null    bool               \n",
      " 13  id                                  548 non-null    int64              \n",
      " 14  id_str                              548 non-null    int64              \n",
      " 15  is_translation_enabled              548 non-null    bool               \n",
      " 16  is_translator                       548 non-null    bool               \n",
      " 17  lang                                548 non-null    object             \n",
      " 18  listed_count                        548 non-null    int64              \n",
      " 19  location                            548 non-null    object             \n",
      " 20  name                                548 non-null    object             \n",
      " 21  notifications                       548 non-null    bool               \n",
      " 22  profile_background_color            548 non-null    object             \n",
      " 23  profile_background_image_url        512 non-null    object             \n",
      " 24  profile_background_image_url_https  512 non-null    object             \n",
      " 25  profile_background_tile             548 non-null    bool               \n",
      " 26  profile_banner_url                  513 non-null    object             \n",
      " 27  profile_image_url                   548 non-null    object             \n",
      " 28  profile_image_url_https             548 non-null    object             \n",
      " 29  profile_link_color                  548 non-null    object             \n",
      " 30  profile_sidebar_border_color        548 non-null    object             \n",
      " 31  profile_sidebar_fill_color          548 non-null    object             \n",
      " 32  profile_text_color                  548 non-null    object             \n",
      " 33  profile_use_background_image        548 non-null    bool               \n",
      " 34  protected                           548 non-null    bool               \n",
      " 35  screen_name                         548 non-null    object             \n",
      " 36  statuses_count                      548 non-null    int64              \n",
      " 37  time_zone                           503 non-null    object             \n",
      " 38  translator_type                     548 non-null    object             \n",
      " 39  url                                 513 non-null    object             \n",
      " 40  utc_offset                          503 non-null    float64            \n",
      " 41  verified                            548 non-null    bool               \n",
      "dtypes: bool(14), datetime64[ns, UTC](1), float64(1), int64(7), object(19)\n",
      "memory usage: 127.5+ KB\n"
     ]
    }
   ],
   "source": [
    "lobby.info()"
   ]
  },
  {
   "cell_type": "code",
   "execution_count": null,
   "metadata": {},
   "outputs": [],
   "source": []
  }
 ],
 "metadata": {
  "kernelspec": {
   "display_name": "Python 3",
   "language": "python",
   "name": "python3"
  },
  "language_info": {
   "codemirror_mode": {
    "name": "ipython",
    "version": 3
   },
   "file_extension": ".py",
   "mimetype": "text/x-python",
   "name": "python",
   "nbconvert_exporter": "python",
   "pygments_lexer": "ipython3",
   "version": "3.8.5"
  }
 },
 "nbformat": 4,
 "nbformat_minor": 4
}
